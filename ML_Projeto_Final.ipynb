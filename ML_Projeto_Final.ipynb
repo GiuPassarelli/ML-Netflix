{
 "cells": [
  {
   "cell_type": "markdown",
   "metadata": {},
   "source": [
    "# Projeto de Machine Learning\n",
    "\n",
    "O objetivo deste projeto é prever a nota da avaliação IMDb de um filme, estando disponíveis informações sobre plataforma de streaming, diretores, países, gêneros, entre outros. Os dados de análise foram retirados de: \n",
    "https://www.kaggle.com/ruchi798/movies-on-netflix-prime-video-hulu-and-disney"
   ]
  },
  {
   "cell_type": "code",
   "execution_count": 1,
   "metadata": {},
   "outputs": [],
   "source": [
    "import pandas as pd\n",
    "import numpy as np\n",
    "import matplotlib.pyplot as plt\n",
    "from collections import Counter"
   ]
  },
  {
   "cell_type": "code",
   "execution_count": 2,
   "metadata": {},
   "outputs": [
    {
     "data": {
      "text/html": [
       "<div>\n",
       "<style scoped>\n",
       "    .dataframe tbody tr th:only-of-type {\n",
       "        vertical-align: middle;\n",
       "    }\n",
       "\n",
       "    .dataframe tbody tr th {\n",
       "        vertical-align: top;\n",
       "    }\n",
       "\n",
       "    .dataframe thead th {\n",
       "        text-align: right;\n",
       "    }\n",
       "</style>\n",
       "<table border=\"1\" class=\"dataframe\">\n",
       "  <thead>\n",
       "    <tr style=\"text-align: right;\">\n",
       "      <th></th>\n",
       "      <th>Unnamed: 0</th>\n",
       "      <th>ID</th>\n",
       "      <th>Title</th>\n",
       "      <th>Year</th>\n",
       "      <th>Age</th>\n",
       "      <th>IMDb</th>\n",
       "      <th>Rotten Tomatoes</th>\n",
       "      <th>Netflix</th>\n",
       "      <th>Hulu</th>\n",
       "      <th>Prime Video</th>\n",
       "      <th>Disney+</th>\n",
       "      <th>Type</th>\n",
       "      <th>Directors</th>\n",
       "      <th>Genres</th>\n",
       "      <th>Country</th>\n",
       "      <th>Language</th>\n",
       "      <th>Runtime</th>\n",
       "    </tr>\n",
       "  </thead>\n",
       "  <tbody>\n",
       "    <tr>\n",
       "      <th>0</th>\n",
       "      <td>0</td>\n",
       "      <td>1</td>\n",
       "      <td>Inception</td>\n",
       "      <td>2010</td>\n",
       "      <td>13+</td>\n",
       "      <td>8.8</td>\n",
       "      <td>87%</td>\n",
       "      <td>1</td>\n",
       "      <td>0</td>\n",
       "      <td>0</td>\n",
       "      <td>0</td>\n",
       "      <td>0</td>\n",
       "      <td>Christopher Nolan</td>\n",
       "      <td>Action,Adventure,Sci-Fi,Thriller</td>\n",
       "      <td>United States,United Kingdom</td>\n",
       "      <td>English,Japanese,French</td>\n",
       "      <td>148.0</td>\n",
       "    </tr>\n",
       "    <tr>\n",
       "      <th>1</th>\n",
       "      <td>1</td>\n",
       "      <td>2</td>\n",
       "      <td>The Matrix</td>\n",
       "      <td>1999</td>\n",
       "      <td>18+</td>\n",
       "      <td>8.7</td>\n",
       "      <td>87%</td>\n",
       "      <td>1</td>\n",
       "      <td>0</td>\n",
       "      <td>0</td>\n",
       "      <td>0</td>\n",
       "      <td>0</td>\n",
       "      <td>Lana Wachowski,Lilly Wachowski</td>\n",
       "      <td>Action,Sci-Fi</td>\n",
       "      <td>United States</td>\n",
       "      <td>English</td>\n",
       "      <td>136.0</td>\n",
       "    </tr>\n",
       "    <tr>\n",
       "      <th>2</th>\n",
       "      <td>2</td>\n",
       "      <td>3</td>\n",
       "      <td>Avengers: Infinity War</td>\n",
       "      <td>2018</td>\n",
       "      <td>13+</td>\n",
       "      <td>8.5</td>\n",
       "      <td>84%</td>\n",
       "      <td>1</td>\n",
       "      <td>0</td>\n",
       "      <td>0</td>\n",
       "      <td>0</td>\n",
       "      <td>0</td>\n",
       "      <td>Anthony Russo,Joe Russo</td>\n",
       "      <td>Action,Adventure,Sci-Fi</td>\n",
       "      <td>United States</td>\n",
       "      <td>English</td>\n",
       "      <td>149.0</td>\n",
       "    </tr>\n",
       "    <tr>\n",
       "      <th>3</th>\n",
       "      <td>3</td>\n",
       "      <td>4</td>\n",
       "      <td>Back to the Future</td>\n",
       "      <td>1985</td>\n",
       "      <td>7+</td>\n",
       "      <td>8.5</td>\n",
       "      <td>96%</td>\n",
       "      <td>1</td>\n",
       "      <td>0</td>\n",
       "      <td>0</td>\n",
       "      <td>0</td>\n",
       "      <td>0</td>\n",
       "      <td>Robert Zemeckis</td>\n",
       "      <td>Adventure,Comedy,Sci-Fi</td>\n",
       "      <td>United States</td>\n",
       "      <td>English</td>\n",
       "      <td>116.0</td>\n",
       "    </tr>\n",
       "    <tr>\n",
       "      <th>4</th>\n",
       "      <td>4</td>\n",
       "      <td>5</td>\n",
       "      <td>The Good, the Bad and the Ugly</td>\n",
       "      <td>1966</td>\n",
       "      <td>18+</td>\n",
       "      <td>8.8</td>\n",
       "      <td>97%</td>\n",
       "      <td>1</td>\n",
       "      <td>0</td>\n",
       "      <td>1</td>\n",
       "      <td>0</td>\n",
       "      <td>0</td>\n",
       "      <td>Sergio Leone</td>\n",
       "      <td>Western</td>\n",
       "      <td>Italy,Spain,West Germany</td>\n",
       "      <td>Italian</td>\n",
       "      <td>161.0</td>\n",
       "    </tr>\n",
       "  </tbody>\n",
       "</table>\n",
       "</div>"
      ],
      "text/plain": [
       "   Unnamed: 0  ID                           Title  Year  Age  IMDb  \\\n",
       "0           0   1                       Inception  2010  13+   8.8   \n",
       "1           1   2                      The Matrix  1999  18+   8.7   \n",
       "2           2   3          Avengers: Infinity War  2018  13+   8.5   \n",
       "3           3   4              Back to the Future  1985   7+   8.5   \n",
       "4           4   5  The Good, the Bad and the Ugly  1966  18+   8.8   \n",
       "\n",
       "  Rotten Tomatoes  Netflix  Hulu  Prime Video  Disney+  Type  \\\n",
       "0             87%        1     0            0        0     0   \n",
       "1             87%        1     0            0        0     0   \n",
       "2             84%        1     0            0        0     0   \n",
       "3             96%        1     0            0        0     0   \n",
       "4             97%        1     0            1        0     0   \n",
       "\n",
       "                        Directors                            Genres  \\\n",
       "0               Christopher Nolan  Action,Adventure,Sci-Fi,Thriller   \n",
       "1  Lana Wachowski,Lilly Wachowski                     Action,Sci-Fi   \n",
       "2         Anthony Russo,Joe Russo           Action,Adventure,Sci-Fi   \n",
       "3                 Robert Zemeckis           Adventure,Comedy,Sci-Fi   \n",
       "4                    Sergio Leone                           Western   \n",
       "\n",
       "                        Country                 Language  Runtime  \n",
       "0  United States,United Kingdom  English,Japanese,French    148.0  \n",
       "1                 United States                  English    136.0  \n",
       "2                 United States                  English    149.0  \n",
       "3                 United States                  English    116.0  \n",
       "4      Italy,Spain,West Germany                  Italian    161.0  "
      ]
     },
     "execution_count": 2,
     "metadata": {},
     "output_type": "execute_result"
    }
   ],
   "source": [
    "rating_db = pd.read_csv(\"MoviesOnStreamingPlatforms_updated.csv\")\n",
    "rating_db.head()"
   ]
  },
  {
   "cell_type": "code",
   "execution_count": 3,
   "metadata": {
    "scrolled": false
   },
   "outputs": [
    {
     "name": "stdout",
     "output_type": "stream",
     "text": [
      "<class 'pandas.core.frame.DataFrame'>\n",
      "RangeIndex: 16744 entries, 0 to 16743\n",
      "Data columns (total 17 columns):\n",
      " #   Column           Non-Null Count  Dtype  \n",
      "---  ------           --------------  -----  \n",
      " 0   Unnamed: 0       16744 non-null  int64  \n",
      " 1   ID               16744 non-null  int64  \n",
      " 2   Title            16744 non-null  object \n",
      " 3   Year             16744 non-null  int64  \n",
      " 4   Age              7354 non-null   object \n",
      " 5   IMDb             16173 non-null  float64\n",
      " 6   Rotten Tomatoes  5158 non-null   object \n",
      " 7   Netflix          16744 non-null  int64  \n",
      " 8   Hulu             16744 non-null  int64  \n",
      " 9   Prime Video      16744 non-null  int64  \n",
      " 10  Disney+          16744 non-null  int64  \n",
      " 11  Type             16744 non-null  int64  \n",
      " 12  Directors        16018 non-null  object \n",
      " 13  Genres           16469 non-null  object \n",
      " 14  Country          16309 non-null  object \n",
      " 15  Language         16145 non-null  object \n",
      " 16  Runtime          16152 non-null  float64\n",
      "dtypes: float64(2), int64(8), object(7)\n",
      "memory usage: 2.2+ MB\n"
     ]
    }
   ],
   "source": [
    "rating_db.info()"
   ]
  },
  {
   "cell_type": "code",
   "execution_count": 4,
   "metadata": {},
   "outputs": [],
   "source": [
    "colunas = [\"ID\", \"Title\", \"Rotten Tomatoes\", \"Type\", \"Unnamed: 0\"]\n",
    "rating_db = rating_db.drop(columns = colunas)"
   ]
  },
  {
   "cell_type": "code",
   "execution_count": 5,
   "metadata": {},
   "outputs": [
    {
     "name": "stdout",
     "output_type": "stream",
     "text": [
      "<class 'pandas.core.frame.DataFrame'>\n",
      "Int64Index: 16173 entries, 0 to 16742\n",
      "Data columns (total 12 columns):\n",
      " #   Column       Non-Null Count  Dtype  \n",
      "---  ------       --------------  -----  \n",
      " 0   Year         16173 non-null  int64  \n",
      " 1   Age          7316 non-null   object \n",
      " 2   IMDb         16173 non-null  float64\n",
      " 3   Netflix      16173 non-null  int64  \n",
      " 4   Hulu         16173 non-null  int64  \n",
      " 5   Prime Video  16173 non-null  int64  \n",
      " 6   Disney+      16173 non-null  int64  \n",
      " 7   Directors    15690 non-null  object \n",
      " 8   Genres       16072 non-null  object \n",
      " 9   Country      15955 non-null  object \n",
      " 10  Language     15801 non-null  object \n",
      " 11  Runtime      15819 non-null  float64\n",
      "dtypes: float64(2), int64(5), object(5)\n",
      "memory usage: 1.6+ MB\n"
     ]
    }
   ],
   "source": [
    "#Como o objetivo é prever o IMDb, linhas sem a informação não serão consideradas\n",
    "rating_db = rating_db.dropna(subset=[\"IMDb\"])\n",
    "rating_db.info()"
   ]
  },
  {
   "cell_type": "code",
   "execution_count": 6,
   "metadata": {},
   "outputs": [],
   "source": [
    "#Separador por vírgulas\n",
    "def splitter(x):\n",
    "    try:\n",
    "        return x.split(\",\")\n",
    "    except:\n",
    "        return []\n",
    "\n",
    "#Lista todas as variáveis com suas respectivas aparições, incluindo casos com dois valores.\n",
    "#Ex: 'Ademar, Bernardo' --> 'Ademar': 1; 'Bernardo': 1\n",
    "\n",
    "def sorted_bom(x):\n",
    "    return sorted(list(Counter(rating_db[x].apply(splitter).apply(pd.Series).unstack().reset_index(drop=True).dropna().values).items()),key = lambda x: -x[1])"
   ]
  },
  {
   "cell_type": "code",
   "execution_count": 7,
   "metadata": {
    "scrolled": false
   },
   "outputs": [],
   "source": [
    "# Não mexer:\n",
    "# sorted(list(Counter(rating_db[\"Directors\"].apply(splitter).apply(pd.Series).unstack().reset_index(drop=True).dropna().values).items()),key = lambda x: x[1])"
   ]
  },
  {
   "cell_type": "code",
   "execution_count": 8,
   "metadata": {},
   "outputs": [],
   "source": [
    "# Conversão das classes com apenas uma contribuição, para uma categoria \"outros\":\n",
    "def generaliza_valores(x, nome_coluna):\n",
    "    class_per_movie = rating_db[x].apply(splitter).apply(pd.Series)\n",
    "    all_class_contributions = sorted_bom(x)\n",
    "\n",
    "    # Classes a serem trocadas\n",
    "    others = []\n",
    "\n",
    "    # Identificação das classes com apenas uma contribuição\n",
    "    \n",
    "    for classes, contributions in all_class_contributions:\n",
    "        if int(contributions) < 2:\n",
    "            others.append(classes)\n",
    "\n",
    "    # Listando somente classes com mais de 2 contribuições\n",
    "    official_classes = class_per_movie.replace(others, \"Outros \"+nome_coluna)\n",
    "    \n",
    "    construtor = list(official_classes.columns)\n",
    "    rating_db[x] = official_classes[construtor].apply(lambda x: ','.join(x[x.notnull()]), axis = 1)"
   ]
  },
  {
   "cell_type": "code",
   "execution_count": 9,
   "metadata": {},
   "outputs": [
    {
     "name": "stdout",
     "output_type": "stream",
     "text": [
      "Idiomas ok\n",
      "Diretores ok\n",
      "Paises ok\n",
      "Wall time: 2min 13s\n"
     ]
    }
   ],
   "source": [
    "%%time\n",
    "\n",
    "official_languages = generaliza_valores(\"Language\", \"Idiomas\")\n",
    "print(\"Idiomas ok\")\n",
    "official_directors = generaliza_valores(\"Directors\", \"Diretores\")\n",
    "print(\"Diretores ok\")\n",
    "official_countries = generaliza_valores(\"Country\", \"Paises\")\n",
    "print(\"Paises ok\")"
   ]
  },
  {
   "cell_type": "code",
   "execution_count": 10,
   "metadata": {},
   "outputs": [],
   "source": [
    "# https://stackoverflow.com/questions/57469676/python-one-hot-encoding-for-comma-separated-values"
   ]
  },
  {
   "cell_type": "code",
   "execution_count": 11,
   "metadata": {
    "scrolled": false
   },
   "outputs": [
    {
     "name": "stdout",
     "output_type": "stream",
     "text": [
      "Rodou 1 coluna\n",
      "Rodou 2 colunas\n",
      "Rodou 3 colunas\n",
      "Rodou 4 colunas\n",
      "Rodou 5 colunas\n",
      "Wall time: 39.4 s\n"
     ]
    }
   ],
   "source": [
    "%%time\n",
    "\n",
    "#Multiple One-Hot-Encoding\n",
    "new_df = pd.concat([rating_db.drop('Language', 1), rating_db['Language'].str.get_dummies(sep=\",\")], 1)\n",
    "print(\"Rodou 1 coluna\")\n",
    "new_df2 = pd.concat([new_df.drop('Directors', 1), new_df['Directors'].str.get_dummies(sep=\",\")], 1)\n",
    "print(\"Rodou 2 colunas\")\n",
    "new_df3 = pd.concat([new_df2.drop('Genres', 1), new_df2['Genres'].str.get_dummies(sep=\",\")], 1)\n",
    "print(\"Rodou 3 colunas\")\n",
    "new_df4 = pd.concat([new_df3.drop('Country', 1), new_df3['Country'].str.get_dummies(sep=\",\")], 1)\n",
    "print(\"Rodou 4 colunas\")\n",
    "rating_db_OHE = pd.concat([new_df4.drop('Age', 1), new_df4['Age'].str.get_dummies(sep=\",\")], 1)\n",
    "print(\"Rodou 5 colunas\")"
   ]
  },
  {
   "cell_type": "code",
   "execution_count": 12,
   "metadata": {},
   "outputs": [],
   "source": [
    "# https://stackoverflow.com/questions/37646473/how-could-i-do-one-hot-encoding-with-multiple-values-in-one-cell\n",
    "# pd.DataFrame({\"diretor\":pd.Series(['2','1','3']).astype('category',categories = [sorted_bom(\"Directors\")])})"
   ]
  },
  {
   "cell_type": "code",
   "execution_count": 13,
   "metadata": {},
   "outputs": [],
   "source": [
    "# directors = sorted(list(Counter(official_directors.unstack().reset_index(drop=True).dropna().values).items()),key = lambda x: -x[1])"
   ]
  },
  {
   "cell_type": "code",
   "execution_count": 14,
   "metadata": {},
   "outputs": [],
   "source": [
    "from sklearn.impute import SimpleImputer\n",
    "\n",
    "#Preencher os valores vazios de RunTime, a partir da mediana da coluna\n",
    "imputer = SimpleImputer(strategy=\"median\")\n",
    "\n",
    "#Treina o imputer\n",
    "imputer.fit(rating_db_OHE[[\"Runtime\"]])\n",
    "\n",
    "#Adiciona os valores faltantes \n",
    "rating_db_OHE[\"Runtime\"] = imputer.transform(rating_db_OHE[[\"Runtime\"]])"
   ]
  },
  {
   "cell_type": "code",
   "execution_count": 15,
   "metadata": {},
   "outputs": [],
   "source": [
    "# from sklearn.impute import SimpleImputer\n",
    "\n",
    "# # Antes de treinar o SimpleImputer, remover a coluna de dados categóricos. O dataset resultante tem apenas\n",
    "# # as variáveis independentes numéricas.\n",
    "# rating_db_imputer = rating_db_nans.copy()\n",
    "\n",
    "# # Cria um imputer que substitui células inválidas (NaN) pela mediana dos valores da coluna à qual a célula pertence.\n",
    "# imputer = SimpleImputer(strategy=\"median\")\n",
    "\n",
    "# # Agora treinar o Imputer. Isto vai causar o cálculo da mediana de cada coluna,\n",
    "# # que ficará armazenado no Imputer para uso futuro.\n",
    "# rating_db_imputer[\"Runtime\"] = imputer.fit_transform(rating_db_imputer[[\"Runtime\"]])"
   ]
  },
  {
   "cell_type": "code",
   "execution_count": 16,
   "metadata": {},
   "outputs": [],
   "source": [
    "# # Trocar Nan de Age por Desconhecido\n",
    "# rating_db_age = rating_db_nans.copy()\n",
    "# rating_db_age = rating_db_age.replace(np.nan, value = \"Desconhecido\", regex = True)\n",
    "# rating_db_nans[\"Age\"] = rating_db_age[\"Age\"]\n",
    "# rating_db_age[[\"Age\"]].info()"
   ]
  },
  {
   "cell_type": "markdown",
   "metadata": {},
   "source": [
    "## Regressor"
   ]
  },
  {
   "cell_type": "code",
   "execution_count": 17,
   "metadata": {},
   "outputs": [],
   "source": [
    "#Semente aleatória\n",
    "RANDOM_SEED = 42\n",
    "rating_db_tratado = rating_db_OHE.copy()"
   ]
  },
  {
   "cell_type": "code",
   "execution_count": 18,
   "metadata": {},
   "outputs": [],
   "source": [
    "from sklearn.model_selection import train_test_split\n",
    "\n",
    "# Separação dos conjuntos treinamento e teste\n",
    "train_set, test_set = train_test_split(\n",
    "    rating_db_tratado,\n",
    "    test_size=0.2,\n",
    "    random_state=RANDOM_SEED,\n",
    ")"
   ]
  },
  {
   "cell_type": "code",
   "execution_count": 19,
   "metadata": {},
   "outputs": [],
   "source": [
    "X_train = train_set.drop(columns=[\"IMDb\"])\n",
    "y_train = train_set[\"IMDb\"]"
   ]
  },
  {
   "cell_type": "code",
   "execution_count": 20,
   "metadata": {},
   "outputs": [],
   "source": [
    "from sklearn.linear_model import LinearRegression, Ridge, Lasso, ElasticNet\n",
    "from sklearn.ensemble import RandomForestRegressor\n",
    "from sklearn.model_selection import cross_val_score\n",
    "\n",
    "#Testa a eficiência do modelo\n",
    "def testa_modelo(model, X, y):\n",
    "    scores = cross_val_score(\n",
    "            model,\n",
    "            X,\n",
    "            y,\n",
    "            scoring=\"neg_mean_squared_error\",\n",
    "            cv = 10,\n",
    "            n_jobs=-1)\n",
    "    \n",
    "    rmse_scores = np.sqrt(-scores)\n",
    "    \n",
    "    print(\"Scores:\", rmse_scores.round(decimals=2))\n",
    "    print(\"Mean:\", rmse_scores.mean())\n",
    "    print(\"Standard deviation:\", rmse_scores.std())"
   ]
  },
  {
   "cell_type": "code",
   "execution_count": 21,
   "metadata": {},
   "outputs": [],
   "source": [
    "# # Para obter as previsões, basta chamar o método predict()\n",
    "# predicted_labels = lin_reg.predict(X_train)\n",
    "# print(\"Predição: {}\".format(predicted_labels.round(decimals=2)))\n",
    "# # Compare com os valores originais:\n",
    "# print(\"Original: {}\".format(y_train.values.round(decimals=2)))"
   ]
  },
  {
   "cell_type": "code",
   "execution_count": 22,
   "metadata": {},
   "outputs": [],
   "source": [
    "# from sklearn.metrics import mean_squared_error\n",
    "\n",
    "# predicted_labels = lin_reg.predict(X_train)\n",
    "# lin_mse = mean_squared_error(y_train, predicted_labels)\n",
    "# lin_rmse = np.sqrt(lin_mse)\n",
    "# print(\"Regressão linear: RMSE = {:.2f}\".format(lin_rmse))"
   ]
  },
  {
   "cell_type": "code",
   "execution_count": 23,
   "metadata": {},
   "outputs": [
    {
     "name": "stdout",
     "output_type": "stream",
     "text": [
      "Wall time: 0 ns\n"
     ]
    }
   ],
   "source": [
    "%%time\n",
    "\n",
    "# #Regressor linear\n",
    "# lin_reg = LinearRegression()\n",
    "\n",
    "# testa_modelo(lin_reg, X_train, y_train)"
   ]
  },
  {
   "cell_type": "code",
   "execution_count": 24,
   "metadata": {},
   "outputs": [
    {
     "name": "stdout",
     "output_type": "stream",
     "text": [
      "Wall time: 0 ns\n"
     ]
    }
   ],
   "source": [
    "%%time\n",
    "\n",
    "# #Regressor Ridge\n",
    "# ridge_reg = Ridge(alpha=0.1)\n",
    "\n",
    "# testa_modelo(ridge_reg, X_train, y_train)"
   ]
  },
  {
   "cell_type": "code",
   "execution_count": 25,
   "metadata": {},
   "outputs": [
    {
     "name": "stdout",
     "output_type": "stream",
     "text": [
      "Wall time: 0 ns\n"
     ]
    }
   ],
   "source": [
    "%%time\n",
    "\n",
    "# #Regressor linear\n",
    "# lasso_reg = Lasso(alpha=0.1)\n",
    "\n",
    "# testa_modelo(lasso_reg, X_train, y_train)"
   ]
  },
  {
   "cell_type": "code",
   "execution_count": 26,
   "metadata": {},
   "outputs": [
    {
     "name": "stdout",
     "output_type": "stream",
     "text": [
      "Wall time: 0 ns\n"
     ]
    }
   ],
   "source": [
    "%%time\n",
    "\n",
    "#Regressor linear\n",
    "# elastic_reg = ElasticNet(alpha=0.1, l1_ratio=0.5, random_state = RANDOM_SEED)\n",
    "\n",
    "# testa_modelo(elastic_reg, X_train, y_train)"
   ]
  },
  {
   "cell_type": "code",
   "execution_count": 27,
   "metadata": {},
   "outputs": [
    {
     "name": "stdout",
     "output_type": "stream",
     "text": [
      "Wall time: 0 ns\n"
     ]
    }
   ],
   "source": [
    "%%time\n",
    "\n",
    "#Regressor linear\n",
    "# forest_reg = RandomForestRegressor(random_state=RANDOM_SEED)\n",
    "\n",
    "# testa_modelo(forest_reg, X_train, y_train)"
   ]
  },
  {
   "cell_type": "markdown",
   "metadata": {},
   "source": [
    "* Tirar as variáveis mais importantes: como fica o desempenho do regressor?\n",
    "* Análise exploratória - visualização\n",
    "* Criar uma lista de perguntas para responder - ex. qual diretor tem mais impacto positivo no rating? Qual a relação entre rating e ano de lançamento?\n",
    "* Qualidade do código - melhorar nome das variáveis"
   ]
  },
  {
   "cell_type": "code",
   "execution_count": 28,
   "metadata": {},
   "outputs": [],
   "source": [
    "# %%time\n",
    "\n",
    "# from sklearn.model_selection import GridSearchCV\n",
    "\n",
    "# param_grid = [{\n",
    "\n",
    "# \"n_estimators\": [30,50,70,100,150,200], #dois valores possíveis de estimadores - estou usando random forest, então tem esse parâmetro\n",
    "# \"max_features\": [4, 6, 8],\n",
    "#     },\n",
    "# ]\n",
    "\n",
    "# forest_reg = RandomForestRegressor(random_state=RANDOM_SEED)\n",
    "\n",
    "# # train across 5 folds, that's a total of (6+4)*5=50 rounds of training.\n",
    "# grid_search = GridSearchCV(\n",
    "# forest_reg, #Modelo\n",
    "# param_grid, #Grid\n",
    "# cv=5, #Partições de CV\n",
    "# scoring=\"neg_mean_squared_error\",\n",
    "# return_train_score=True, #Se quero ver scores ou não\n",
    "# n_jobs=-1,\n",
    "# )\n",
    "# grid_search.fit(X_train, y_train)"
   ]
  },
  {
   "cell_type": "code",
   "execution_count": 29,
   "metadata": {},
   "outputs": [],
   "source": [
    "# model = grid_search.best_estimator_\n",
    "# model"
   ]
  },
  {
   "cell_type": "code",
   "execution_count": 30,
   "metadata": {
    "scrolled": true
   },
   "outputs": [],
   "source": [
    "# feature_importances = grid_search.best_estimator_.feature_importances_\n",
    "# attributes = X_train.columns\n",
    "# sorted(zip(feature_importances, attributes), reverse=True)"
   ]
  },
  {
   "cell_type": "code",
   "execution_count": 31,
   "metadata": {},
   "outputs": [],
   "source": [
    "# # Separação dos conjuntos treinamento e teste\n",
    "# import shap\n",
    "# X_train_shap, X_test_shap, y_train_shap, y_test_shap = train_test_split(\n",
    "#     X_train,\n",
    "#     y_train,\n",
    "#     test_size=0.1,\n",
    "#     random_state=RANDOM_SEED,\n",
    "# )"
   ]
  },
  {
   "cell_type": "code",
   "execution_count": 32,
   "metadata": {},
   "outputs": [
    {
     "ename": "NameError",
     "evalue": "name 'shap' is not defined",
     "output_type": "error",
     "traceback": [
      "\u001b[1;31m---------------------------------------------------------------------------\u001b[0m",
      "\u001b[1;31mNameError\u001b[0m                                 Traceback (most recent call last)",
      "\u001b[1;32m<ipython-input-32-21c2812b2777>\u001b[0m in \u001b[0;36m<module>\u001b[1;34m\u001b[0m\n\u001b[1;32m----> 1\u001b[1;33m \u001b[0mX_train_summary\u001b[0m \u001b[1;33m=\u001b[0m \u001b[0mshap\u001b[0m\u001b[1;33m.\u001b[0m\u001b[0mkmeans\u001b[0m\u001b[1;33m(\u001b[0m\u001b[0mX_train_shap\u001b[0m\u001b[1;33m,\u001b[0m \u001b[1;36m10\u001b[0m\u001b[1;33m)\u001b[0m\u001b[1;33m\u001b[0m\u001b[1;33m\u001b[0m\u001b[0m\n\u001b[0m\u001b[0;32m      2\u001b[0m \u001b[1;33m\u001b[0m\u001b[0m\n\u001b[0;32m      3\u001b[0m \u001b[0mshap\u001b[0m\u001b[1;33m.\u001b[0m\u001b[0minitjs\u001b[0m\u001b[1;33m(\u001b[0m\u001b[1;33m)\u001b[0m\u001b[1;33m\u001b[0m\u001b[1;33m\u001b[0m\u001b[0m\n",
      "\u001b[1;31mNameError\u001b[0m: name 'shap' is not defined"
     ]
    }
   ],
   "source": [
    "X_train_summary = shap.kmeans(X_train_shap, 10)\n",
    "\n",
    "shap.initjs()"
   ]
  },
  {
   "cell_type": "code",
   "execution_count": null,
   "metadata": {},
   "outputs": [],
   "source": [
    "# ex = shap.KernelExplainer(model.predict, X_train_summary)\n",
    "# shap_values = ex.shap_values(X_test_shap.iloc[0,:])\n",
    "# shap.plots.force(ex.expected_value, shap_values, X_test_shap.iloc[0,:])"
   ]
  },
  {
   "cell_type": "code",
   "execution_count": null,
   "metadata": {},
   "outputs": [],
   "source": [
    "# %%time\n",
    "# shap_values = ex.shap_values(X_test_shap)\n",
    "# shap.summary_plot(shap_values, X_test_shap)"
   ]
  },
  {
   "cell_type": "code",
   "execution_count": null,
   "metadata": {},
   "outputs": [],
   "source": [
    "# shap.summary_plot(shap_values, X_test_shap, max_display_values=50, sort=True)"
   ]
  },
  {
   "cell_type": "code",
   "execution_count": null,
   "metadata": {},
   "outputs": [],
   "source": [
    "# rf_explainer = shap.TreeExplainer(model)\n",
    "# rf_shap_values = rf_explainer.shap_values(X_test_shap.iloc[0:20,:])\n",
    "\n",
    "# # Make plot. Index of [1] is explained in text below.\n",
    "# shap.summary_plot(rf_shap_values, X_test_shap.iloc[0:20,:])"
   ]
  },
  {
   "cell_type": "code",
   "execution_count": null,
   "metadata": {},
   "outputs": [],
   "source": [
    "# non_relevant_columns = []\n",
    "# for imp, atrb in sorted(zip(feature_importances, attributes), reverse=True):\n",
    "#     if imp>1e-3:\n",
    "#         non_relevant_columns.append(atrb)"
   ]
  },
  {
   "cell_type": "markdown",
   "metadata": {},
   "source": [
    "# Análise por Gênero"
   ]
  },
  {
   "cell_type": "code",
   "execution_count": 48,
   "metadata": {},
   "outputs": [],
   "source": [
    "dropped_genres = [\"Thriller\", \"Documentary\", \"Horror\", \"Crime\", \"Adventure\", \"Family\", \"Mystery\", \"Sci-Fi\", \"Fantasy\", \"Biography\", \"History\", \"Animation\", \"Music\", \"War\", \"Western\", \"Musical\", \"Sport\", \"Short\", \"News\", \"Film-Noir\", \"Reality-TV\", \"Talk-Show\", \"Game-Show\"]\n",
    "selected_genres = [\"Action\", \"Drama\", \"Romance\", \"Comedy\"]\n",
    "rating_db_p = rating_db_OHE.copy()\n",
    "rating_db_p = rating_db_p.drop(columns = dropped_genres)\n",
    "\n",
    "rating_db_action = rating_db_p.drop(columns=[\"Drama\", \"Romance\", \"Comedy\"])\n",
    "rating_db_drama = rating_db_p.drop(columns=[\"Action\", \"Romance\", \"Comedy\"])\n",
    "rating_db_romance = rating_db_p.drop(columns=[\"Action\", \"Drama\", \"Comedy\"])\n",
    "rating_db_comedy = rating_db_p.drop(columns=[\"Action\", \"Romance\", \"Drama\"])"
   ]
  },
  {
   "cell_type": "code",
   "execution_count": 57,
   "metadata": {},
   "outputs": [],
   "source": [
    "def feature_importance(database):\n",
    "    \n",
    "    # Separação dos conjuntos treinamento e teste\n",
    "    train_set_p, test_set_p = train_test_split(\n",
    "    database,\n",
    "    test_size=0.2,\n",
    "    random_state=RANDOM_SEED)\n",
    "    \n",
    "    X_train_p = train_set_p.drop(columns=[\"IMDb\"])\n",
    "    y_train_p = train_set_p[\"IMDb\"]\n",
    "    \n",
    "    param_grid = [{\n",
    "\n",
    "    \"n_estimators\": [30,50,70,100,150,200], \n",
    "    \"max_features\": [4, 6, 8],\n",
    "        },\n",
    "    ]\n",
    "\n",
    "    forest_reg = RandomForestRegressor(random_state = RANDOM_SEED)\n",
    "\n",
    "    # train across 5 folds, that's a total of (6+4)*5=50 rounds of training.\n",
    "    grid_search_p = GridSearchCV(\n",
    "    forest_reg, #Modelo\n",
    "    param_grid, #Grid\n",
    "    cv=5, #Partições de CV\n",
    "    scoring=\"neg_mean_squared_error\",\n",
    "    return_train_score=True, #Se quero ver scores ou não\n",
    "    n_jobs=-1,\n",
    "    )\n",
    "    \n",
    "    grid_search_p.fit(X_train_p, y_train_p)\n",
    "    feature_importances = grid_search_p.best_estimator_.feature_importances_\n",
    "    attributes = X_train_p.columns\n",
    "    \n",
    "    return sorted(zip(feature_importances, attributes), reverse=True)"
   ]
  },
  {
   "cell_type": "code",
   "execution_count": null,
   "metadata": {},
   "outputs": [],
   "source": [
    "feature_importance(rating_db_action)"
   ]
  },
  {
   "cell_type": "code",
   "execution_count": null,
   "metadata": {},
   "outputs": [],
   "source": [
    "feature_importance(rating_db_drama)"
   ]
  },
  {
   "cell_type": "code",
   "execution_count": null,
   "metadata": {},
   "outputs": [],
   "source": [
    "feature_importance(rating_db_comedy)"
   ]
  },
  {
   "cell_type": "code",
   "execution_count": null,
   "metadata": {},
   "outputs": [],
   "source": [
    "feature_importance(rating_db_romance)"
   ]
  },
  {
   "cell_type": "markdown",
   "metadata": {},
   "source": [
    "* Breve storytelling da persona por trás do projeto\n",
    "* Apresentar o modelo de cabo a rabo - iniciar com o cross_val, e resultados. Predict no test\n",
    "* SHAP\n",
    "* Appeal para ML - se retirarmos a coluna mais eficiente, como afeta no desempenho do regressor?\n",
    "* Análise exploratória - fãs de tais gêneros - o que valorizam mais?"
   ]
  },
  {
   "cell_type": "code",
   "execution_count": null,
   "metadata": {},
   "outputs": [],
   "source": []
  }
 ],
 "metadata": {
  "kernelspec": {
   "display_name": "Python 3",
   "language": "python",
   "name": "python3"
  },
  "language_info": {
   "codemirror_mode": {
    "name": "ipython",
    "version": 3
   },
   "file_extension": ".py",
   "mimetype": "text/x-python",
   "name": "python",
   "nbconvert_exporter": "python",
   "pygments_lexer": "ipython3",
   "version": "3.8.5"
  }
 },
 "nbformat": 4,
 "nbformat_minor": 4
}
